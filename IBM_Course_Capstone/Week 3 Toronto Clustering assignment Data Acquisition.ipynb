{
 "cells": [
  {
   "cell_type": "markdown",
   "metadata": {},
   "source": [
    "# Web Scraping and Clustering Toronto Area Data from Wikipedia\n",
    "\n",
    "In this notebook we will scrape the Toronto area data from a wikipedia table using BeautifulSoup and then cluster it using K-means. Combining this clustered neighbourhood data with data available to us from the FourSquare API will allow us to run data analysis on neighbourhoods in Toronto."
   ]
  },
  {
   "cell_type": "code",
   "execution_count": 1,
   "metadata": {},
   "outputs": [],
   "source": [
    "#import required packages\n",
    "import pandas as pd\n",
    "import numpy as np\n",
    "from sklearn.cluster import KMeans\n",
    "from bs4 import BeautifulSoup\n",
    "import geocoder\n",
    "import requests\n",
    "import csv"
   ]
  },
  {
   "cell_type": "markdown",
   "metadata": {},
   "source": [
    "Now we will take the wikipedia page and pass it to Beautiful Soup. From there we will process and clean the data into  a pandas dataframe. This will allow us to access the table content and pass that through SKLEARN."
   ]
  },
  {
   "cell_type": "code",
   "execution_count": 2,
   "metadata": {},
   "outputs": [],
   "source": [
    "#data acquisition:\n",
    "\n",
    "#store the target page in a variable as text\n",
    "source = requests.get('https://en.wikipedia.org/wiki/List_of_postal_codes_of_Canada:_M').text\n",
    "\n",
    "#use the 'lxml' parser to organise the data correctly\n",
    "soup = BeautifulSoup(source, 'lxml')\n",
    "\n",
    "#there is only one table in the data so a simple first find will work\n",
    "table = soup.find('table')"
   ]
  },
  {
   "cell_type": "code",
   "execution_count": 3,
   "metadata": {},
   "outputs": [],
   "source": [
    "#data processing:\n",
    "#read the table into lists\n",
    "df = pd.read_html(str(table))\n",
    "\n",
    "#convert to data frame and drop rows with missing data\n",
    "df = df[0].dropna()\n",
    "\n",
    "#drop NA also changes the index, so reset the index\n",
    "df.reset_index(drop = True, inplace = True)\n",
    "\n",
    "#replace fwd slashes with commas in the Neighborhood col\n",
    "df['Neighborhood'] = df['Neighborhood'].str.replace(\" /\",\",\")"
   ]
  },
  {
   "cell_type": "code",
   "execution_count": 4,
   "metadata": {
    "hide_input": false
   },
   "outputs": [
    {
     "name": "stdout",
     "output_type": "stream",
     "text": [
      "The dataframe shape is: (103, 3) \n",
      "\n"
     ]
    }
   ],
   "source": [
    "#check the data\n",
    "print(\"The dataframe shape is: {} \\n\".format(df.shape))\n"
   ]
  }
 ],
 "metadata": {
  "kernelspec": {
   "display_name": "Python 3",
   "language": "python",
   "name": "python3"
  },
  "language_info": {
   "codemirror_mode": {
    "name": "ipython",
    "version": 3
   },
   "file_extension": ".py",
   "mimetype": "text/x-python",
   "name": "python",
   "nbconvert_exporter": "python",
   "pygments_lexer": "ipython3",
   "version": "3.7.6"
  }
 },
 "nbformat": 4,
 "nbformat_minor": 4
}
