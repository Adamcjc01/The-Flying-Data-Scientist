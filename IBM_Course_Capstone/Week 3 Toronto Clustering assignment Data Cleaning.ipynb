{
 "cells": [
  {
   "cell_type": "markdown",
   "metadata": {},
   "source": [
    "# Web Scraping and Clustering Toronto Area Data from Wikipedia\n",
    "\n",
    "In this notebook we will scrape the Toronto area data from a wikipedia table using BeautifulSoup and then cluster it using K-means. Combining this clustered neighbourhood data with data available to us from the FourSquare API will allow us to run data analysis on neighbourhoods in Toronto."
   ]
  },
  {
   "cell_type": "code",
   "execution_count": 1,
   "metadata": {},
   "outputs": [],
   "source": [
    "#import required packages\n",
    "import pandas as pd\n",
    "import numpy as np\n",
    "from sklearn.cluster import KMeans\n",
    "from bs4 import BeautifulSoup\n",
    "import geocoder\n",
    "import requests\n",
    "import csv"
   ]
  },
  {
   "cell_type": "markdown",
   "metadata": {},
   "source": [
    "Now we will take the wikipedia page and pass it to Beautiful Soup. From there we will process and clean the data into  a pandas dataframe. This will allow us to access the table content and pass that through SKLEARN."
   ]
  },
  {
   "cell_type": "code",
   "execution_count": 2,
   "metadata": {},
   "outputs": [],
   "source": [
    "#data acquisition:\n",
    "\n",
    "#store the target page in a variable as text\n",
    "source = requests.get('https://en.wikipedia.org/wiki/List_of_postal_codes_of_Canada:_M').text\n",
    "\n",
    "#use the 'lxml' parser to organise the data correctly\n",
    "soup = BeautifulSoup(source, 'lxml')\n",
    "\n",
    "#there is only one table in the data so a simple first find will work\n",
    "table = soup.find('table')"
   ]
  },
  {
   "cell_type": "code",
   "execution_count": 3,
   "metadata": {},
   "outputs": [],
   "source": [
    "#data processing:\n",
    "#read the table into lists\n",
    "df = pd.read_html(str(table))\n",
    "\n",
    "#convert to data frame and drop rows with missing data\n",
    "df = df[0].dropna()\n",
    "\n",
    "#drop NA also changes the index, so reset the index\n",
    "df.reset_index(drop = True, inplace = True)\n",
    "\n",
    "#replace fwd slashes with commas in the Neighborhood col\n",
    "df['Neighborhood'] = df['Neighborhood'].str.replace(\" /\",\",\")"
   ]
  },
  {
   "cell_type": "code",
   "execution_count": 4,
   "metadata": {
    "hide_input": false
   },
   "outputs": [
    {
     "name": "stdout",
     "output_type": "stream",
     "text": [
      "The dataframe shape is: (103, 3) \n",
      "\n",
      "  Postal Code           Borough                                 Neighborhood\n",
      "0         M3A        North York                                    Parkwoods\n",
      "1         M4A        North York                             Victoria Village\n",
      "2         M5A  Downtown Toronto                    Regent Park, Harbourfront\n",
      "3         M6A        North York             Lawrence Manor, Lawrence Heights\n",
      "4         M7A  Downtown Toronto  Queen's Park, Ontario Provincial Government\n"
     ]
    }
   ],
   "source": [
    "#check the data\n",
    "print(\"The dataframe shape is: {} \\n\".format(df.shape))\n",
    "print(df.head())"
   ]
  },
  {
   "cell_type": "code",
   "execution_count": 5,
   "metadata": {
    "hide_input": true
   },
   "outputs": [],
   "source": [
    "MY_API = 'AkcWSjN_B3AnUY3PZxR1JT1-j7ixZuC-B2cxPSpR4oujDN2LJ-FUgRiLOhUOpf6Z'"
   ]
  },
  {
   "cell_type": "code",
   "execution_count": 6,
   "metadata": {},
   "outputs": [],
   "source": [
    "# initialize your variable to None\n",
    "lat = []\n",
    "lng = []\n",
    "\n",
    "#run a for loop through Geocoder to the Bing API to get lat long positions\n",
    "for i in range(0,len(df.index)):\n",
    "    g = geocoder.bing('{}, Toronto, Ontario'.format(df.iloc[i]['Postal Code']), key=MY_API)\n",
    "    lat.append(g.lat)\n",
    "    lng.append(g.lng)"
   ]
  },
  {
   "cell_type": "code",
   "execution_count": 9,
   "metadata": {},
   "outputs": [],
   "source": [
    "#add the lat/long data acquired in the cell above to the main data frame\n",
    "df['Latitude'] = lat\n",
    "df['Longitude'] = lng"
   ]
  },
  {
   "cell_type": "code",
   "execution_count": 10,
   "metadata": {},
   "outputs": [
    {
     "data": {
      "text/html": [
       "<div>\n",
       "<style scoped>\n",
       "    .dataframe tbody tr th:only-of-type {\n",
       "        vertical-align: middle;\n",
       "    }\n",
       "\n",
       "    .dataframe tbody tr th {\n",
       "        vertical-align: top;\n",
       "    }\n",
       "\n",
       "    .dataframe thead th {\n",
       "        text-align: right;\n",
       "    }\n",
       "</style>\n",
       "<table border=\"1\" class=\"dataframe\">\n",
       "  <thead>\n",
       "    <tr style=\"text-align: right;\">\n",
       "      <th></th>\n",
       "      <th>Postal Code</th>\n",
       "      <th>Borough</th>\n",
       "      <th>Neighborhood</th>\n",
       "      <th>Latitude</th>\n",
       "      <th>Longitude</th>\n",
       "    </tr>\n",
       "  </thead>\n",
       "  <tbody>\n",
       "    <tr>\n",
       "      <th>0</th>\n",
       "      <td>M3A</td>\n",
       "      <td>North York</td>\n",
       "      <td>Parkwoods</td>\n",
       "      <td>43.751881</td>\n",
       "      <td>-79.330360</td>\n",
       "    </tr>\n",
       "    <tr>\n",
       "      <th>1</th>\n",
       "      <td>M4A</td>\n",
       "      <td>North York</td>\n",
       "      <td>Victoria Village</td>\n",
       "      <td>43.730419</td>\n",
       "      <td>-79.312820</td>\n",
       "    </tr>\n",
       "    <tr>\n",
       "      <th>2</th>\n",
       "      <td>M5A</td>\n",
       "      <td>Downtown Toronto</td>\n",
       "      <td>Regent Park, Harbourfront</td>\n",
       "      <td>43.655140</td>\n",
       "      <td>-79.362648</td>\n",
       "    </tr>\n",
       "    <tr>\n",
       "      <th>3</th>\n",
       "      <td>M6A</td>\n",
       "      <td>North York</td>\n",
       "      <td>Lawrence Manor, Lawrence Heights</td>\n",
       "      <td>43.723209</td>\n",
       "      <td>-79.451408</td>\n",
       "    </tr>\n",
       "    <tr>\n",
       "      <th>4</th>\n",
       "      <td>M7A</td>\n",
       "      <td>Downtown Toronto</td>\n",
       "      <td>Queen's Park, Ontario Provincial Government</td>\n",
       "      <td>43.664490</td>\n",
       "      <td>-79.393021</td>\n",
       "    </tr>\n",
       "  </tbody>\n",
       "</table>\n",
       "</div>"
      ],
      "text/plain": [
       "  Postal Code           Borough                                 Neighborhood  \\\n",
       "0         M3A        North York                                    Parkwoods   \n",
       "1         M4A        North York                             Victoria Village   \n",
       "2         M5A  Downtown Toronto                    Regent Park, Harbourfront   \n",
       "3         M6A        North York             Lawrence Manor, Lawrence Heights   \n",
       "4         M7A  Downtown Toronto  Queen's Park, Ontario Provincial Government   \n",
       "\n",
       "    Latitude  Longitude  \n",
       "0  43.751881 -79.330360  \n",
       "1  43.730419 -79.312820  \n",
       "2  43.655140 -79.362648  \n",
       "3  43.723209 -79.451408  \n",
       "4  43.664490 -79.393021  "
      ]
     },
     "execution_count": 10,
     "metadata": {},
     "output_type": "execute_result"
    }
   ],
   "source": [
    "#check the data\n",
    "df.head()"
   ]
  }
 ],
 "metadata": {
  "kernelspec": {
   "display_name": "Python 3",
   "language": "python",
   "name": "python3"
  },
  "language_info": {
   "codemirror_mode": {
    "name": "ipython",
    "version": 3
   },
   "file_extension": ".py",
   "mimetype": "text/x-python",
   "name": "python",
   "nbconvert_exporter": "python",
   "pygments_lexer": "ipython3",
   "version": "3.7.6"
  }
 },
 "nbformat": 4,
 "nbformat_minor": 4
}
